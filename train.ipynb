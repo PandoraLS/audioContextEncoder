{
 "cells": [
  {
   "cell_type": "code",
   "execution_count": null,
   "metadata": {
    "scrolled": false
   },
   "outputs": [],
   "source": [
    "import tensorflow as tf\n",
    "from network.contextEncoder import ContextEncoderNetwork"
   ]
  },
  {
   "cell_type": "code",
   "execution_count": null,
   "metadata": {},
   "outputs": [],
   "source": [
    "tf.reset_default_graph()\n",
    "\n",
    "train_filename = 'train_full_w5120_g1024_h512_19404621.tfrecords'\n",
    "valid_filename = 'valid_full_w5120_g1024_h512_ex913967.tfrecords'\n",
    "\n",
    "aContextEncoderNetwork = ContextEncoderNetwork(batch_size=256, window_size=5120, gap_length=1024, \n",
    "                                             learning_rate=1e-5, name='train')\n",
    "aContextEncoderNetwork.train(train_filename, valid_filename, num_steps=1e6)"
   ]
  }
 ],
 "metadata": {
  "kernelspec": {
   "display_name": "Python 3",
   "language": "python",
   "name": "python3"
  },
  "language_info": {
   "codemirror_mode": {
    "name": "ipython",
    "version": 3
   },
   "file_extension": ".py",
   "mimetype": "text/x-python",
   "name": "python",
   "nbconvert_exporter": "python",
   "pygments_lexer": "ipython3",
   "version": "3.6.2"
  }
 },
 "nbformat": 4,
 "nbformat_minor": 2
}
